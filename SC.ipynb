{
 "cells": [
  {
   "cell_type": "markdown",
   "metadata": {},
   "source": [
    "Data Set HMEQ\n",
    "The data set HMEQ reports characteristics and delinquency information for 5,960\n",
    "home equity loans. A home equity loan is a loan where the obligor uses the equity\n",
    "of his or her home as the underlying collateral. The data set has the following characteristics:\n",
    "\n",
    "BAD: 1 = applicant defaulted on loan or seriously delinquent; 0 = applicant paid loan\n",
    "\n",
    "LOAN: Amount of the loan request\n",
    "\n",
    "MORTDUE: Amount due on existing mortgage\n",
    "\n",
    "VALUE: Value of current property\n",
    "\n",
    "REASON: DebtCon = debt consolidation; HomeImp = home improvement\n",
    "\n",
    "JOB: Occupational categories\n",
    "\n",
    "YOJ: Years at present job\n",
    "\n",
    "DEROG: Number of major derogatory reports\n",
    "\n",
    "DELINQ: Number of delinquent credit lines\n",
    "\n",
    "CLAGE: Age of oldest credit line in months\n",
    "\n",
    "NINQ: Number of recent credit inquiries\n",
    "\n",
    "CLNO: Number of credit lines\n",
    "\n",
    "DEBTINC: Debt-to-income ratio\n"
   ]
  },
  {
   "cell_type": "markdown",
   "metadata": {},
   "source": [
    "1. UPLOADING USEFUL MODULES AND DATAFRAME "
   ]
  },
  {
   "cell_type": "code",
   "execution_count": 1,
   "metadata": {},
   "outputs": [
    {
     "name": "stdout",
     "output_type": "stream",
     "text": [
      "alright\n",
      "5960 2384\n",
      "0    80.075503\n",
      "1    19.924497\n",
      "Name: BAD, dtype: float64\n",
      "0    80.050336\n",
      "1    19.949664\n",
      "Name: BAD, dtype: float64\n"
     ]
    }
   ],
   "source": [
    "#IMPORTING MODULES\n",
    "import pandas as pd\n",
    "import numpy as np\n",
    "from random import sample\n",
    "import matplotlib.pyplot as plt\n",
    "from scipy import stats\n",
    "import statsmodels.api as sm\n",
    "\n",
    "#UPLOADING DATAFRAME\n",
    "HMEQ = pd.read_csv('hmeq.csv')\n",
    "\n",
    "#CREATING A SAMPLE \n",
    "s_hmeq = HMEQ.sample(frac =.40) \n",
    "if (0.40*len(HMEQ)==len(s_hmeq)):\n",
    "    print('alright')\n",
    "    print(len(HMEQ), len(s_hmeq))\n",
    "\n",
    "#SAMPLE TEST\n",
    "print((s_hmeq['BAD'].value_counts()/s_hmeq['BAD'].count())*100)\n",
    "print((HMEQ['BAD'].value_counts()/HMEQ['BAD'].count())*100)"
   ]
  },
  {
   "cell_type": "markdown",
   "metadata": {},
   "source": [
    "2. TREATMENT OF MISSING VALUES"
   ]
  },
  {
   "cell_type": "code",
   "execution_count": 2,
   "metadata": {},
   "outputs": [
    {
     "name": "stdout",
     "output_type": "stream",
     "text": [
      "0    80.075503\n",
      "1    19.924497\n",
      "Name: BAD, dtype: float64\n"
     ]
    },
    {
     "name": "stderr",
     "output_type": "stream",
     "text": [
      "C:\\Users\\Vulo\\Anaconda3\\lib\\site-packages\\pandas\\core\\generic.py:6130: SettingWithCopyWarning: \n",
      "A value is trying to be set on a copy of a slice from a DataFrame\n",
      "\n",
      "See the caveats in the documentation: http://pandas.pydata.org/pandas-docs/stable/indexing.html#indexing-view-versus-copy\n",
      "  self._update_inplace(new_data)\n"
     ]
    }
   ],
   "source": [
    "#except for bad loan the following list in subset have missing values\n",
    "s_miss_hmeq= s_hmeq.dropna(subset=['MORTDUE', 'VALUE', 'YOJ', 'DEROG',\n",
    "       'DELINQ', 'CLAGE', 'NINQ', 'CLNO', 'DEBTINC'])\n",
    "\n",
    "#piechart showed more than 75% of reason is debtcon | we assume missing in job as a structural unemployment\n",
    "s_miss_hmeq['JOB'].fillna('UnEmp', inplace = True)\n",
    "s_miss_hmeq['REASON'].fillna('DebtCon', inplace = True)\n",
    "\n",
    "#creating checkpoint\n",
    "nomiss_hmeq = s_miss_hmeq.copy()\n",
    "\n",
    "#editing index which was damaged because of sampling \n",
    "nomiss_hmeq.index = range(len(nomiss_hmeq))\n",
    "\n",
    "print((s_hmeq['BAD'].value_counts()/s_hmeq['BAD'].count())*100)"
   ]
  },
  {
   "cell_type": "markdown",
   "metadata": {},
   "source": [
    "3. TREATMENT OF OUTLIERS"
   ]
  },
  {
   "cell_type": "code",
   "execution_count": 3,
   "metadata": {},
   "outputs": [
    {
     "name": "stderr",
     "output_type": "stream",
     "text": [
      "C:\\Users\\Vulo\\Anaconda3\\lib\\site-packages\\ipykernel_launcher.py:14: SettingWithCopyWarning: \n",
      "A value is trying to be set on a copy of a slice from a DataFrame\n",
      "\n",
      "See the caveats in the documentation: http://pandas.pydata.org/pandas-docs/stable/indexing.html#indexing-view-versus-copy\n",
      "  \n",
      "C:\\Users\\Vulo\\Anaconda3\\lib\\site-packages\\ipykernel_launcher.py:16: SettingWithCopyWarning: \n",
      "A value is trying to be set on a copy of a slice from a DataFrame\n",
      "\n",
      "See the caveats in the documentation: http://pandas.pydata.org/pandas-docs/stable/indexing.html#indexing-view-versus-copy\n",
      "  app.launch_new_instance()\n"
     ]
    }
   ],
   "source": [
    "#creating a check point\n",
    "pps_hmeq = nomiss_hmeq.copy()\n",
    "\n",
    "# this func permanently edits the dataframe and its removes outliers by IQR method.\n",
    "def outlier_treatment(x):\n",
    "    Q5 = x.quantile(0.50)\n",
    "    Q1 = x.quantile(0.25)\n",
    "    Q3 = x.quantile(0.75)\n",
    "    IQR = Q3 - Q1\n",
    "    t_min= Q1 - 1.5 * IQR\n",
    "    t_max= Q3 + 1.5 * IQR\n",
    "    for i in range(len(x)):\n",
    "        if x[i] > t_max:\n",
    "            x[i] = Q5\n",
    "        elif x[i] < t_min:\n",
    "            x[i] = Q5\n",
    "            \n",
    "#the following colums had outlier as suggested by boxplot(not shown here!)            \n",
    "outlier_treatment(pps_hmeq['LOAN'])\n",
    "outlier_treatment(pps_hmeq['MORTDUE'])\n",
    "outlier_treatment(pps_hmeq['VALUE'])\n",
    "outlier_treatment(pps_hmeq['YOJ'])\n",
    "outlier_treatment(pps_hmeq['CLAGE'])\n",
    "outlier_treatment(pps_hmeq['NINQ'])\n",
    "outlier_treatment(pps_hmeq['CLNO'])\n",
    "outlier_treatment(pps_hmeq['DEBTINC'])"
   ]
  },
  {
   "cell_type": "code",
   "execution_count": 4,
   "metadata": {},
   "outputs": [
    {
     "data": {
      "text/plain": [
       "array(['BAD', 'LOAN', 'MORTDUE', 'VALUE', 'REASON', 'JOB', 'YOJ', 'DEROG',\n",
       "       'DELINQ', 'CLAGE', 'NINQ', 'CLNO', 'DEBTINC'], dtype=object)"
      ]
     },
     "execution_count": 4,
     "metadata": {},
     "output_type": "execute_result"
    }
   ],
   "source": [
    "pps_hmeq.columns.values"
   ]
  },
  {
   "cell_type": "markdown",
   "metadata": {},
   "source": [
    "4. CLASSIFICATION\n"
   ]
  },
  {
   "cell_type": "code",
   "execution_count": 5,
   "metadata": {},
   "outputs": [],
   "source": [
    "#CREATING A CHECK POINT\n",
    "hmeq_class = pps_hmeq.copy()\n",
    "\n",
    "# CREATE DECILES OF THE FOLLOWING BASED ON THEIR VALUE RANGE\n",
    "hmeq_class['LOAN_bin'] = pd.qcut(hmeq_class['LOAN'], 6)\n",
    "hmeq_class['MORTDUE_bin'] = pd.qcut(hmeq_class['MORTDUE'], 5)\n",
    "hmeq_class['VALUE_bin'] = pd.qcut(hmeq_class['VALUE'], 5)\n",
    "hmeq_class['YOJ_bin'] = pd.qcut(hmeq_class['YOJ'], 3)\n",
    "hmeq_class['CLNO_bin'] = pd.cut(hmeq_class['CLNO'], 3)\n",
    "hmeq_class['CLAGE_bin'] = pd.cut(hmeq_class['CLAGE'], 4)\n",
    "hmeq_class['DEBTINC_bin'] = pd.cut(hmeq_class['DEBTINC'], 3)\n",
    "\n",
    "# THE FOLLOWING CLASSIFICATION IS BUILT BY OBSERVING TEHIR VALUE_COUNTS \n",
    "hmeq_class.loc[hmeq_class['DEROG'] < 1, 'DEROG_bin'] = 'no'\n",
    "hmeq_class.loc[hmeq_class['DEROG'] >= 1, 'DEROG_bin'] = 'yes'\n",
    "\n",
    "hmeq_class.loc[hmeq_class['DELINQ'] < 1, 'DELINQ_bin'] = 'no'             \n",
    "hmeq_class.loc[hmeq_class['DELINQ'] ==1, 'DELINQ_bin'] = 'one'\n",
    "hmeq_class.loc[hmeq_class['DELINQ'] > 1, 'DELINQ_bin'] = 'yes'\n",
    "\n",
    "hmeq_class.loc[hmeq_class['NINQ'] < 1, 'NINQ_bin'] = 'no'\n",
    "hmeq_class.loc[hmeq_class['NINQ'] == 1, 'NINQ_bin'] = 'one'\n",
    "hmeq_class.loc[hmeq_class['NINQ'] == 2, 'NINQ_bin'] = '3orless'\n",
    "hmeq_class.loc[hmeq_class['NINQ'] == 3, 'NINQ_bin'] = '3orless'\n",
    "hmeq_class.loc[hmeq_class['NINQ'] >= 4, 'NINQ_bin'] = '4ormore'\n",
    "\n",
    "#FINALLY WE DROP THE UNREQUIRED COLUMNS\n",
    "hmeq_class.drop(['LOAN', 'MORTDUE', 'VALUE', 'YOJ', 'CLNO', 'CLAGE', 'DEBTINC', 'DEROG', 'DELINQ', 'NINQ'], axis=1, inplace=True)\n",
    "\n",
    " "
   ]
  },
  {
   "cell_type": "markdown",
   "metadata": {},
   "source": [
    "5. CALCULATING WOE AND IV"
   ]
  },
  {
   "cell_type": "code",
   "execution_count": 6,
   "metadata": {},
   "outputs": [
    {
     "name": "stdout",
     "output_type": "stream",
     "text": [
      "WoE and IV for column: REASON\n",
      "    All  Bad  Good    Value  Distr_Good  Distr_Bad       WoE        IV\n",
      "1   404   41   363  HomeImp    0.278374   0.362832 -0.264973  0.022379\n",
      "0  1013   72   941  DebtCon    0.721626   0.637168  0.124473  0.010513\n",
      "IV score: 0.03\n",
      "\n",
      "\n",
      "WoE and IV for column: JOB\n",
      "   All  Bad  Good    Value  Distr_Good  Distr_Bad       WoE        IV\n",
      "6   29    9    20    Sales    0.015337   0.079646 -1.647296  0.105935\n",
      "1   44    6    38     Self    0.029141   0.053097 -0.599977  0.014373\n",
      "0  516   53   463    Other    0.355061   0.469027 -0.278369  0.031724\n",
      "4   34    0    34    UnEmp    0.026074   0.000000  0.000000  0.000000\n",
      "3  370   24   346  ProfExe    0.265337   0.212389  0.222581  0.011785\n",
      "5  172   11   161      Mgr    0.123466   0.097345  0.237705  0.006209\n",
      "2  252   10   242   Office    0.185583   0.088496  0.740549  0.071898\n",
      "IV score: 0.24\n",
      "\n",
      "\n",
      "WoE and IV for column: LOAN_bin\n",
      "   All  Bad  Good                Value  Distr_Good  Distr_Bad       WoE  \\\n",
      "2  242   27   215  (2999.999, 10300.0]    0.164877   0.238938 -0.371003   \n",
      "5  180   15   165   (17100.0, 20400.0]    0.126534   0.132743 -0.047909   \n",
      "4  240   19   221   (20400.0, 25900.0]    0.169479   0.168142  0.007920   \n",
      "3  286   21   265   (13500.0, 17100.0]    0.203221   0.185841  0.089403   \n",
      "0  232   17   215   (25900.0, 42200.0]    0.164877   0.150442  0.091621   \n",
      "1  237   14   223   (10300.0, 13500.0]    0.171012   0.123894  0.322311   \n",
      "\n",
      "         IV  \n",
      "2  0.027477  \n",
      "5  0.000297  \n",
      "4  0.000011  \n",
      "3  0.001554  \n",
      "0  0.001323  \n",
      "1  0.015187  \n",
      "IV score: 0.05\n",
      "\n",
      "\n",
      "WoE and IV for column: MORTDUE_bin\n",
      "   All  Bad  Good                Value  Distr_Good  Distr_Bad       WoE  \\\n",
      "1  283   27   256   (59905.0, 71370.6]    0.196319   0.238938 -0.196463   \n",
      "2  284   27   257  (5075.999, 45788.2]    0.197086   0.238938 -0.192565   \n",
      "0  283   23   260   (45788.2, 59905.0]    0.199387   0.203540 -0.020617   \n",
      "3  284   19   265  (94099.4, 154005.0]    0.203221   0.168142  0.189487   \n",
      "4  283   17   266   (71370.6, 94099.4]    0.203988   0.150442  0.304479   \n",
      "\n",
      "         IV  \n",
      "1  0.008373  \n",
      "2  0.008059  \n",
      "0  0.000086  \n",
      "3  0.006647  \n",
      "4  0.016303  \n",
      "IV score: 0.04\n",
      "\n",
      "\n",
      "WoE and IV for column: VALUE_bin\n",
      "   All  Bad  Good                 Value  Distr_Good  Distr_Bad       WoE  \\\n",
      "2  284   32   252  (27780.999, 68172.6]    0.193252   0.283186 -0.382111   \n",
      "1  283   23   260    (68172.6, 86365.0]    0.199387   0.203540 -0.020617   \n",
      "4  284   21   263  (123808.4, 205613.0]    0.201687   0.185841  0.081828   \n",
      "0  283   20   263    (86365.0, 98691.4]    0.201687   0.176991  0.130618   \n",
      "3  283   17   266   (98691.4, 123808.4]    0.203988   0.150442  0.304479   \n",
      "\n",
      "         IV  \n",
      "2  0.034365  \n",
      "1  0.000086  \n",
      "4  0.001297  \n",
      "0  0.003226  \n",
      "3  0.016303  \n",
      "IV score: 0.06\n",
      "\n",
      "\n",
      "WoE and IV for column: YOJ_bin\n",
      "   All  Bad  Good          Value  Distr_Good  Distr_Bad       WoE        IV\n",
      "2  491   45   446    (4.0, 11.0]    0.342025    0.39823 -0.152147  0.008552\n",
      "1  495   45   450  (-0.001, 4.0]    0.345092    0.39823 -0.143219  0.007610\n",
      "0  431   23   408   (11.0, 30.0]    0.312883    0.20354  0.429969  0.047014\n",
      "IV score: 0.06\n",
      "\n",
      "\n",
      "WoE and IV for column: CLNO_bin\n",
      "   All  Bad  Good          Value  Distr_Good  Distr_Bad       WoE        IV\n",
      "1  338   38   300  (0.958, 15.0]    0.230061   0.336283 -0.379608  0.040323\n",
      "0  849   61   788   (15.0, 29.0]    0.604294   0.539823  0.112820  0.007274\n",
      "2  230   14   216   (29.0, 43.0]    0.165644   0.123894  0.290417  0.012125\n",
      "IV score: 0.06\n",
      "\n",
      "\n",
      "WoE and IV for column: CLAGE_bin\n",
      "   All  Bad  Good               Value  Distr_Good  Distr_Bad       WoE  \\\n",
      "2  245   43   202    (7.659, 107.033]    0.154908   0.380531 -0.898736   \n",
      "0  671   51   620   (107.033, 206.01]    0.475460   0.451327  0.052090   \n",
      "1  412   17   395   (206.01, 304.988]    0.302914   0.150442  0.699868   \n",
      "3   89    2    87  (304.988, 403.965]    0.066718   0.017699  1.326957   \n",
      "\n",
      "         IV  \n",
      "2  0.202776  \n",
      "0  0.001257  \n",
      "1  0.106710  \n",
      "3  0.065046  \n",
      "IV score: 0.38\n",
      "\n",
      "\n",
      "WoE and IV for column: DEBTINC_bin\n",
      "   All  Bad  Good             Value  Distr_Good  Distr_Bad       WoE  \\\n",
      "2  374   41   333  (38.813, 50.353]    0.255368   0.362832 -0.351234   \n",
      "1  816   65   751  (27.274, 38.813]    0.575920   0.575221  0.001214   \n",
      "0  227    7   220    (15.7, 27.274]    0.168712   0.061947  1.001913   \n",
      "\n",
      "             IV  \n",
      "2  3.774487e-02  \n",
      "1  8.489141e-07  \n",
      "0  1.069690e-01  \n",
      "IV score: 0.14\n",
      "\n",
      "\n",
      "WoE and IV for column: DEROG_bin\n",
      "    All  Bad  Good Value  Distr_Good  Distr_Bad       WoE        IV\n",
      "1   147   31   116   yes    0.088957   0.274336 -1.126201  0.208774\n",
      "0  1270   82  1188    no    0.911043   0.725664  0.227503  0.042174\n",
      "IV score: 0.25\n",
      "\n",
      "\n",
      "WoE and IV for column: DELINQ_bin\n",
      "    All  Bad  Good Value  Distr_Good  Distr_Bad       WoE        IV\n",
      "1    87   24    63   yes    0.048313   0.212389 -1.480723  0.242952\n",
      "0   127    9   118   one    0.090491   0.079646  0.127656  0.001384\n",
      "2  1203   80  1123    no    0.861196   0.707965  0.195928  0.030022\n",
      "IV score: 0.27\n",
      "\n",
      "\n",
      "WoE and IV for column: NINQ_bin\n",
      "   All  Bad  Good    Value  Distr_Good  Distr_Bad       WoE        IV\n",
      "3   43    9    34  4ormore    0.026074   0.079646 -1.116668  0.059823\n",
      "1  281   22   259  3orless    0.198620   0.194690  0.019982  0.000079\n",
      "2  388   30   358      one    0.274540   0.265487  0.033532  0.000304\n",
      "0  705   52   653       no    0.500767   0.460177  0.084529  0.003431\n",
      "IV score: 0.06\n",
      "\n",
      "\n",
      "      parameter    IV\n",
      "0        REASON  0.03\n",
      "1           JOB  0.24\n",
      "2      LOAN_bin  0.05\n",
      "3   MORTDUE_bin  0.04\n",
      "4     VALUE_bin  0.06\n",
      "5       YOJ_bin  0.06\n",
      "6      CLNO_bin  0.06\n",
      "7     CLAGE_bin  0.38\n",
      "8   DEBTINC_bin  0.14\n",
      "9     DEROG_bin  0.25\n",
      "10   DELINQ_bin  0.27\n",
      "11     NINQ_bin  0.06\n"
     ]
    }
   ],
   "source": [
    "def calculate_woe_iv(dataset, feature, target):\n",
    "    lst = []\n",
    "    for i in range(dataset[feature].nunique()):\n",
    "        val = list(dataset[feature].unique())[i]\n",
    "        lst.append({\n",
    "            'Value': val,\n",
    "            'All': dataset[dataset[feature] == val].count()[feature],\n",
    "            'Good': dataset[(dataset[feature] == val) & (dataset[target] == 0)].count()[feature],\n",
    "            'Bad': dataset[(dataset[feature] == val) & (dataset[target] == 1)].count()[feature]\n",
    "        })        \n",
    "    dset = pd.DataFrame(lst)\n",
    "    dset['Distr_Good'] = dset['Good'] / dset['Good'].sum()\n",
    "    dset['Distr_Bad'] = dset['Bad'] / dset['Bad'].sum()\n",
    "    dset['WoE'] = np.log(dset['Distr_Good'] / dset['Distr_Bad'])\n",
    "    dset = dset.replace({'WoE': {np.inf: 0, -np.inf: 0}})\n",
    "    dset['IV'] = (dset['Distr_Good'] - dset['Distr_Bad']) * dset['WoE']\n",
    "    iv = dset['IV'].sum()   \n",
    "    dset = dset.sort_values(by='WoE')    \n",
    "    return dset, iv\n",
    "\n",
    "IVlist = []\n",
    "\n",
    "for col in hmeq_class.columns:\n",
    "    if col == 'BAD': continue\n",
    "    else:\n",
    "        print('WoE and IV for column: {}'.format(col))\n",
    "        df, iv = calculate_woe_iv(hmeq_class, col, 'BAD')\n",
    "        IVlist.append({\n",
    "            'parameter': col,\n",
    "            'IV': '{:.2f}'.format(iv)})\n",
    "        print(df)\n",
    "        print('IV score: {:.2f}'.format(iv))\n",
    "        print('\\n')\n",
    "print(pd.DataFrame(IVlist, columns= ['parameter', 'IV']))"
   ]
  },
  {
   "cell_type": "markdown",
   "metadata": {},
   "source": [
    "6. WOE TRANSFORMATION"
   ]
  },
  {
   "cell_type": "code",
   "execution_count": 7,
   "metadata": {},
   "outputs": [],
   "source": [
    "#CREATING A CHECK POINT\n",
    "hmeq_woe = hmeq_class.copy()\n",
    "\n",
    "cols= ['REASON', 'JOB', 'LOAN_bin', 'MORTDUE_bin', 'VALUE_bin',\n",
    "       'YOJ_bin', 'CLNO_bin', 'CLAGE_bin', 'DEBTINC_bin', 'DEROG_bin',\n",
    "       'DELINQ_bin', 'NINQ_bin']\n",
    "cols_woe = ['REASON_woe', 'JOB_woe', 'LOAN_woe', 'MORTDUE_woe', 'VALUE_woe',\n",
    "       'YOJ_woe', 'CLNO_woe', 'CLAGE_woe', 'DEBTINC_woe', 'DEROG_woe',\n",
    "       'DELINQ_woe', 'NINQ_woe']\n",
    "\n",
    "#transformation loop\n",
    "for i in range(len(cols)):\n",
    "    df, iv = calculate_woe_iv(hmeq_woe, cols[i], 'BAD')\n",
    "    for j in range(df.shape[0]):\n",
    "        hmeq_woe.loc[hmeq_woe[cols[i]] == df[df.columns.values[3]][j], cols_woe[i]] = df[df.columns.values[6]][j]\n",
    "\n",
    "# dropping unnessesary columns\n",
    "hmeq_woe.drop(cols, axis=1, inplace=True)"
   ]
  },
  {
   "cell_type": "markdown",
   "metadata": {},
   "source": [
    "7. LOGISTIC REGRESSION"
   ]
  },
  {
   "cell_type": "code",
   "execution_count": 8,
   "metadata": {},
   "outputs": [
    {
     "name": "stdout",
     "output_type": "stream",
     "text": [
      "Optimization terminated successfully.\n",
      "         Current function value: 0.227359\n",
      "         Iterations 8\n",
      "                           Logit Regression Results                           \n",
      "==============================================================================\n",
      "Dep. Variable:                    BAD   No. Observations:                 1417\n",
      "Model:                          Logit   Df Residuals:                     1404\n",
      "Method:                           MLE   Df Model:                           12\n",
      "Date:                Thu, 23 Jul 2020   Pseudo R-squ.:                  0.1826\n",
      "Time:                        11:25:34   Log-Likelihood:                -322.17\n",
      "converged:                       True   LL-Null:                       -394.14\n",
      "                                        LLR p-value:                 9.590e-25\n",
      "===============================================================================\n",
      "                  coef    std err          z      P>|z|      [0.025      0.975]\n",
      "-------------------------------------------------------------------------------\n",
      "REASON_woe     -0.8196      0.605     -1.355      0.176      -2.006       0.366\n",
      "JOB_woe        -0.8981      0.220     -4.076      0.000      -1.330      -0.466\n",
      "LOAN_woe       -0.8640      0.477     -1.811      0.070      -1.799       0.071\n",
      "MORTDUE_woe    -0.4595      0.641     -0.717      0.474      -1.716       0.797\n",
      "VALUE_woe      -0.6886      0.538     -1.279      0.201      -1.744       0.367\n",
      "YOJ_woe        -0.5979      0.454     -1.317      0.188      -1.487       0.292\n",
      "CLNO_woe       -0.5237      0.455     -1.152      0.249      -1.415       0.368\n",
      "CLAGE_woe      -0.8993      0.182     -4.934      0.000      -1.256      -0.542\n",
      "DEBTINC_woe    -0.9752      0.330     -2.957      0.003      -1.622      -0.329\n",
      "DEROG_woe      -0.6405      0.196     -3.270      0.001      -1.024      -0.257\n",
      "DELINQ_woe     -1.0665      0.185     -5.764      0.000      -1.429      -0.704\n",
      "NINQ_woe       -1.0929      0.383     -2.857      0.004      -1.843      -0.343\n",
      "intercept      -2.4734      0.115    -21.438      0.000      -2.700      -2.247\n",
      "===============================================================================\n"
     ]
    }
   ],
   "source": [
    "#CREATING A CHECK POINT\n",
    "hmeq_logit = hmeq_woe.copy()\n",
    "\n",
    "#MANUALLY ADDING INTERCEPT\n",
    "hmeq_logit['intercept'] = 1.0\n",
    "\n",
    "train_cols = hmeq_logit.columns[1:]\n",
    "\n",
    "logit = sm.Logit(hmeq_logit['BAD'], hmeq_logit[train_cols])\n",
    "\n",
    "result = logit.fit()\n",
    "\n",
    "print(result.summary())"
   ]
  },
  {
   "cell_type": "markdown",
   "metadata": {},
   "source": [
    "8. CREATING THE SCORE-CARD \n"
   ]
  },
  {
   "cell_type": "markdown",
   "metadata": {},
   "source": [
    "It is not right to create the scorecard based on parameters that showed low IV score and failed the sinificance test at 5%."
   ]
  },
  {
   "cell_type": "markdown",
   "metadata": {},
   "source": [
    "Still we did it because random sampling always changes the distribution which allways changes the choice of columns to drop.  "
   ]
  },
  {
   "cell_type": "code",
   "execution_count": 9,
   "metadata": {},
   "outputs": [
    {
     "name": "stdout",
     "output_type": "stream",
     "text": [
      "  Parameter                 Value      Score\n",
      "1    REASON               HomeImp  40.274342\n",
      "0    REASON               DebtCon  49.484744\n",
      "6       JOB                 Sales   3.852726\n",
      "1       JOB                  Self  30.993075\n",
      "0       JOB                 Other  39.327274\n",
      "4       JOB                 UnEmp  46.540956\n",
      "3       JOB               ProfExe  52.308947\n",
      "5       JOB                   Mgr  52.700876\n",
      "2       JOB                Office  65.731623\n",
      "2      LOAN   (2999.999, 10300.0]  37.291589\n",
      "5      LOAN    (17100.0, 20400.0]  45.346559\n",
      "4      LOAN    (20400.0, 25900.0]  46.738402\n",
      "3      LOAN    (13500.0, 17100.0]  48.769849\n",
      "0      LOAN    (25900.0, 42200.0]  48.825128\n",
      "1      LOAN    (10300.0, 13500.0]  54.576390\n",
      "1   MORTDUE    (59905.0, 71370.6]  43.936246\n",
      "2   MORTDUE   (5075.999, 45788.2]  43.987934\n",
      "0   MORTDUE    (45788.2, 59905.0]  46.267622\n",
      "3   MORTDUE   (94099.4, 154005.0]  49.053172\n",
      "4   MORTDUE    (71370.6, 94099.4]  50.577737\n",
      "2     VALUE  (27780.999, 68172.6]  38.949230\n",
      "1     VALUE    (68172.6, 86365.0]  46.131350\n",
      "4     VALUE  (123808.4, 205613.0]  48.166697\n",
      "0     VALUE    (86365.0, 98691.4]  49.136054\n",
      "3     VALUE   (98691.4, 123808.4]  52.590305\n",
      "2       YOJ           (4.0, 11.0]  43.916356\n",
      "1       YOJ         (-0.001, 4.0]  44.070378\n",
      "0       YOJ          (11.0, 30.0]  53.958081\n",
      "1      CLNO         (0.958, 15.0]  40.805180\n",
      "0      CLNO          (15.0, 29.0]  48.245642\n",
      "2      CLNO          (29.0, 43.0]  50.929086\n",
      "2     CLAGE      (7.659, 107.033]  23.221134\n",
      "0     CLAGE     (107.033, 206.01]  47.892551\n",
      "1     CLAGE     (206.01, 304.988]  64.700686\n",
      "3     CLAGE    (304.988, 403.965]  80.971968\n",
      "2   DEBTINC      (38.813, 50.353]  36.657717\n",
      "1   DEBTINC      (27.274, 38.813]  46.575129\n",
      "0   DEBTINC        (15.7, 27.274]  74.733457\n",
      "1     DEROG                   yes  25.727375\n",
      "0     DEROG                    no  50.745498\n",
      "1    DELINQ                   yes   0.974498\n",
      "0    DELINQ                   one  50.469332\n",
      "2    DELINQ                    no  52.570283\n",
      "3      NINQ               4ormore  11.326586\n",
      "1      NINQ               3orless  47.171083\n",
      "2      NINQ                   one  47.598385\n",
      "0      NINQ                    no  49.206612\n"
     ]
    }
   ],
   "source": [
    "Factor = 20/np.log(2)\n",
    "Offset = 600 - Factor * np.log(50)\n",
    "\n",
    "ScoreCard = pd.DataFrame(columns=['Parameter', 'Value', 'Score'])\n",
    "\n",
    "o_col_name= ['REASON', 'JOB', 'LOAN', 'MORTDUE', 'VALUE',\n",
    "       'YOJ', 'CLNO', 'CLAGE', 'DEBTINC', 'DEROG',\n",
    "       'DELINQ', 'NINQ']\n",
    "\n",
    "for i in range(len(cols)):\n",
    "    df, iv = calculate_woe_iv(hmeq_class, cols[i], 'BAD')\n",
    "    df['Parameter'] = o_col_name[i]\n",
    "    df['Score'] = (((df['WoE'])*([result.params][0][i])+(([result.params][0][-1])/(len(result.params)-1)))*(-1))*Factor+(Offset/(len(result.params)-1))\n",
    "    df.drop(['All', 'Bad', 'Good', 'Distr_Good', 'Distr_Bad', 'WoE', 'IV'], axis=1, inplace=True)\n",
    "    df = df[['Parameter', 'Value', 'Score']]\n",
    "    ScoreCard = ScoreCard.append(df)\n",
    "\n",
    "print(ScoreCard)"
   ]
  },
  {
   "cell_type": "code",
   "execution_count": 10,
   "metadata": {},
   "outputs": [],
   "source": [
    "ScoreCard.to_csv('ScoreCard.csv', index = False)"
   ]
  },
  {
   "cell_type": "code",
   "execution_count": null,
   "metadata": {},
   "outputs": [],
   "source": []
  }
 ],
 "metadata": {
  "kernelspec": {
   "display_name": "Python 3",
   "language": "python",
   "name": "python3"
  },
  "language_info": {
   "codemirror_mode": {
    "name": "ipython",
    "version": 3
   },
   "file_extension": ".py",
   "mimetype": "text/x-python",
   "name": "python",
   "nbconvert_exporter": "python",
   "pygments_lexer": "ipython3",
   "version": "3.7.3"
  }
 },
 "nbformat": 4,
 "nbformat_minor": 2
}
